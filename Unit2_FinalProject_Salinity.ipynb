{
 "cells": [
  {
   "cell_type": "code",
   "execution_count": 36,
   "metadata": {},
   "outputs": [],
   "source": [
    "import matplotlib.pyplot as plt\n",
    "import numpy as np\n",
    "import csv"
   ]
  },
  {
   "cell_type": "code",
   "execution_count": 37,
   "metadata": {},
   "outputs": [],
   "source": [
    "csvfile = open(\"PracticalSalinityUnits_Dec_2011.csv\", 'r')\n",
    "csvreader = csv.reader(csvfile, delimiter=',')\n",
    "data_lists = list(csvreader)"
   ]
  },
  {
   "cell_type": "code",
   "execution_count": 1,
   "metadata": {
    "scrolled": true
   },
   "outputs": [],
   "source": [
    "#print(data_lists[0])"
   ]
  },
  {
   "cell_type": "code",
   "execution_count": 39,
   "metadata": {},
   "outputs": [
    {
     "data": {
      "text/plain": [
       "720"
      ]
     },
     "execution_count": 39,
     "metadata": {},
     "output_type": "execute_result"
    }
   ],
   "source": [
    "len(data_lists[0])"
   ]
  },
  {
   "cell_type": "code",
   "execution_count": 40,
   "metadata": {},
   "outputs": [
    {
     "name": "stdout",
     "output_type": "stream",
     "text": [
      "360\n"
     ]
    }
   ],
   "source": [
    "print(len(data_lists))"
   ]
  },
  {
   "cell_type": "code",
   "execution_count": 41,
   "metadata": {},
   "outputs": [],
   "source": [
    "width = len(data_lists[0])\n",
    "height = len(data_lists)"
   ]
  },
  {
   "cell_type": "code",
   "execution_count": 42,
   "metadata": {},
   "outputs": [],
   "source": [
    "grid = np.empty([height, width, 3], dtype=np.uint8) "
   ]
  },
  {
   "cell_type": "code",
   "execution_count": 43,
   "metadata": {},
   "outputs": [],
   "source": [
    "all_values = [] \n",
    "\n",
    "for r, row in enumerate(data_lists):\n",
    "    for c, value in enumerate(row):\n",
    "        if float(value) < 99999:\n",
    "            all_values.append(float(value)) \n",
    "        if float(value) <= 30:\n",
    "            grid[r, c] = [239, 244, 255] \n",
    "        elif float(value) <= 31:\n",
    "            grid[r, c] = [217, 228, 252]\n",
    "        elif float(value) <= 32:\n",
    "            grid[r, c] = [198, 212, 244]\n",
    "        elif float(value) <= 33:\n",
    "            grid[r, c] = [184, 204, 249]\n",
    "        elif float(value) <= 33.5:\n",
    "            grid[r, c] = [167, 192, 249]\n",
    "        elif float(value) <= 34:\n",
    "            grid[r, c] = [151, 182, 252]\n",
    "        elif float(value) <= 34.2:\n",
    "            grid[r, c] = [133, 170, 252]\n",
    "        elif float(value) <= 34.4:\n",
    "            grid[r, c] = [121, 162, 252]\n",
    "        elif float(value) <= 34.6:\n",
    "            grid[r, c] = [98, 146, 252]\n",
    "        elif float(value) <= 34.8:\n",
    "            grid[r, c] = [81, 133, 247]\n",
    "        elif float(value) <= 35:\n",
    "            grid[r, c] = [60, 120, 252]\n",
    "        elif float(value) <= 35.2:\n",
    "            grid[r, c] = [46, 108, 244]\n",
    "        elif float(value) <= 35.4:\n",
    "            grid[r, c] = [39, 94, 216]\n",
    "        elif float(value) <= 35.6:\n",
    "            grid[r, c] = [31, 79, 186]\n",
    "        elif float(value) <= 35.8:\n",
    "            grid[r, c] = [27, 69, 163]\n",
    "        elif float(value) <= 36:\n",
    "            grid[r, c] = [20, 55, 135]\n",
    "        elif float(value) <= 36.5:\n",
    "            grid[r, c] = [14, 41, 104]\n",
    "        elif float(value) <= 37:\n",
    "            grid[r, c] = [8, 30, 81]\n",
    "        elif float(value) <= 38:\n",
    "            grid[r, c] = [2, 19, 58]\n",
    "        else:\n",
    "            grid[r, c] = [0, 0, 0]"
   ]
  },
  {
   "cell_type": "code",
   "execution_count": 44,
   "metadata": {},
   "outputs": [
    {
     "name": "stdout",
     "output_type": "stream",
     "text": [
      "30.0\n",
      "38.0\n",
      "34.80352288138266\n"
     ]
    }
   ],
   "source": [
    "print(min(all_values))\n",
    "print(max(all_values))\n",
    "print(np.mean(all_values))"
   ]
  },
  {
   "cell_type": "code",
   "execution_count": 45,
   "metadata": {},
   "outputs": [
    {
     "data": {
      "image/png": "[encoded data removed]",
      "text/plain": [
       "<Figure size 432x288 with 1 Axes>"
      ]
     },
     "metadata": {},
     "output_type": "display_data"
    }
   ],
   "source": [
    "plt.title(\"Salinity in December 2011\")\n",
    "plt.imshow(grid)\n",
    "plt.axis('off')\n",
    "plt.savefig(\"Salinity2011.png\",dpi = 1000)\n",
    "plt.show()"
   ]
  },
  {
   "cell_type": "code",
   "execution_count": null,
   "metadata": {},
   "outputs": [],
   "source": []
  }
 ],
 "metadata": {
  "kernelspec": {
   "display_name": "Python 3",
   "language": "python",
   "name": "python3"
  },
  "language_info": {
   "codemirror_mode": {
    "name": "ipython",
    "version": 3
   },
   "file_extension": ".py",
   "mimetype": "text/x-python",
   "name": "python",
   "nbconvert_exporter": "python",
   "pygments_lexer": "ipython3",
   "version": "3.6.5"
  }
 },
 "nbformat": 4,
 "nbformat_minor": 2
}
