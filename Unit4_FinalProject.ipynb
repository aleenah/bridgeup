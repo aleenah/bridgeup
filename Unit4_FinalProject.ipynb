{
 "cells": [
  {
   "cell_type": "markdown",
   "metadata": {},
   "source": [
    "# Unit 4 Final Projects: Calculating evolutionary distance\n",
    "\n",
    "In this notebook you will compare the sequence of a particular gene from 3 different species to find out which two are most closely related. \n",
    "\n",
    "You will need to do the following:\n",
    "1. Open and read in your files\n",
    "2. Decide which sequences to compare (DNA, RNA, or protein)\n",
    "3. Write a function that returns the percent similarity of each pair of sequences\n",
    "4. Call the function on each pair of sequences to find out which are most similar"
   ]
  },
  {
   "cell_type": "code",
   "execution_count": 85,
   "metadata": {},
   "outputs": [],
   "source": [
    "lizDNA = open(\"2_GreenAnole_CSNK2B_DNA2.txt\").read()\n",
    "lizlen = len(lizDNA)"
   ]
  },
  {
   "cell_type": "code",
   "execution_count": 86,
   "metadata": {},
   "outputs": [],
   "source": [
    "chickenDNA = open(\"2_Chicken_CSNK2B_DNA2.txt\").read()\n",
    "chickenlen = len(chickenDNA)"
   ]
  },
  {
   "cell_type": "code",
   "execution_count": 87,
   "metadata": {},
   "outputs": [],
   "source": [
    "turtleDNA = open(\"2_BoxTurtle_CSNK2B_DNA.txt\").read()\n",
    "turtlelen = len(turtleDNA)"
   ]
  },
  {
   "cell_type": "code",
   "execution_count": 89,
   "metadata": {},
   "outputs": [
    {
     "name": "stdout",
     "output_type": "stream",
     "text": [
      "76.49572649572649\n",
      "80.91168091168092\n",
      "81.76638176638177\n"
     ]
    }
   ],
   "source": [
    "def similarity(animalA, animalB):\n",
    "    same = 0\n",
    "    percent = 0\n",
    "    for c, i in enumerate(animalA): \n",
    "        if animalB[c] == i:\n",
    "            same += 1\n",
    "        percent = same/len(animalA)*100\n",
    "    return percent\n",
    "\n",
    "CL = similarity(chickenDNA, lizDNA)\n",
    "TL = similarity(turtleDNA, lizDNA)\n",
    "TC = similarity(turtleDNA, chickenDNA)\n",
    "print(CL)\n",
    "print(TL)\n",
    "print(TC)"
   ]
  },
  {
   "cell_type": "code",
   "execution_count": 105,
   "metadata": {},
   "outputs": [
    {
     "name": "stdout",
     "output_type": "stream",
     "text": [
      "23.504273504273513\n",
      "19.088319088319082\n",
      "18.23361823361823\n"
     ]
    }
   ],
   "source": [
    "CLdif = 100 - similarity(chickenDNA, lizDNA)\n",
    "TLdif = 100 - similarity(turtleDNA, lizDNA)\n",
    "TCdif = 100 - similarity(turtleDNA, chickenDNA)\n",
    "\n",
    "print(CLdif)\n",
    "print(TLdif)\n",
    "print(TCdif)"
   ]
  },
  {
   "cell_type": "markdown",
   "metadata": {},
   "source": [
    "## Bonus Challenge\n",
    "\n",
    "Visualize your results! Choose a graph type that you think will communicate your conclusions effectively and create it using matplotlib:"
   ]
  },
  {
   "cell_type": "code",
   "execution_count": 119,
   "metadata": {},
   "outputs": [
    {
     "data": {
      "image/png": "[encoded data removed]",
      "text/plain": [
       "<Figure size 432x288 with 1 Axes>"
      ]
     },
     "metadata": {},
     "output_type": "display_data"
    }
   ],
   "source": [
    "import matplotlib.pyplot as plt \n",
    "\n",
    "plt.bar([1, 2, 3], [CLdif, TLdif, TCdif], width=.5, color=\"pink\")\n",
    "plt.ylim(0, 50)\n",
    "plt.title(\"Difference between Chicken, Green Anole Lizard, and Box Turtle\")\n",
    "plt.ylabel(\"Percent Difference\")\n",
    "plt.xlabel(\"Chicken vs. Lizard          Lizard vs. Turtle          Turtle vs. Chicken\")\n",
    "plt.savefig(\"Unit4FinalGraph\", dpi=1000)\n",
    "plt.show()"
   ]
  },
  {
   "cell_type": "markdown",
   "metadata": {},
   "source": [
    "## Bonus Challenge 2\n",
    "If you finish your project and want to try a challenge, come up with a hypothesis about which of the following species are most closely related to humans (carp, chicken, chimp, dog, eel, elephant, frog, gorilla, macaque monkey, mouse, orangutan, pig). Write out a ranked list with the species you think is most related to humans at the top.\n",
    "\n",
    "Then calculate the percent difference between the hemoglobin amino acid sequences of humans and each species to find out how close you came to the right ranking!"
   ]
  },
  {
   "cell_type": "code",
   "execution_count": null,
   "metadata": {
    "collapsed": true
   },
   "outputs": [],
   "source": []
  }
 ],
 "metadata": {
  "kernelspec": {
   "display_name": "Python 3",
   "language": "python",
   "name": "python3"
  },
  "language_info": {
   "codemirror_mode": {
    "name": "ipython",
    "version": 3
   },
   "file_extension": ".py",
   "mimetype": "text/x-python",
   "name": "python",
   "nbconvert_exporter": "python",
   "pygments_lexer": "ipython3",
   "version": "3.6.5"
  }
 },
 "nbformat": 4,
 "nbformat_minor": 2
}
